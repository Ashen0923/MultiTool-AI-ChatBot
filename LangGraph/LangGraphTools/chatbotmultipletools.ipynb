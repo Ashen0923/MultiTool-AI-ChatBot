{
 "cells": [
  {
   "cell_type": "code",
   "execution_count": 5,
   "id": "49e18c5e",
   "metadata": {},
   "outputs": [],
   "source": [
    "##tools\n",
    "\n",
    "from langchain_community.tools import ArxivQueryRun,WikipediaQueryRun\n",
    "from langchain_community.utilities import WikipediaAPIWrapper,ArxivAPIWrapper"
   ]
  },
  {
   "cell_type": "code",
   "execution_count": 6,
   "id": "06815013",
   "metadata": {},
   "outputs": [
    {
     "name": "stdout",
     "output_type": "stream",
     "text": [
      "arxiv\n"
     ]
    }
   ],
   "source": [
    "api_wrapper_arxiv = ArxivAPIWrapper(top_k_results=2,doc_content_chars_max=500)\n",
    "arxiv = ArxivQueryRun(api_wrapper=api_wrapper_arxiv,description=\"Query arxiv papers\")\n",
    "print(arxiv.name)"
   ]
  },
  {
   "cell_type": "code",
   "execution_count": 8,
   "id": "f63e27cb",
   "metadata": {},
   "outputs": [
    {
     "data": {
      "text/plain": [
       "\"Published: 2024-07-22\\nTitle: Attention Is All You Need But You Don't Need All Of It For Inference of Large Language Models\\nAuthors: Georgy Tyukin, Gbetondji J-S Dovonon, Jean Kaddour, Pasquale Minervini\\nSummary: The inference demand for LLMs has skyrocketed in recent months, and serving\\nmodels with low latencies remains challenging due to the quadratic input length\\ncomplexity of the attention layers. In this work, we investigate the effect of\\ndropping MLP and attention layers at inference time o\""
      ]
     },
     "execution_count": 8,
     "metadata": {},
     "output_type": "execute_result"
    }
   ],
   "source": [
    "arxiv.invoke(\"Attention is all you need\")"
   ]
  },
  {
   "cell_type": "code",
   "execution_count": 10,
   "id": "331a54d7",
   "metadata": {},
   "outputs": [
    {
     "data": {
      "text/plain": [
       "'wikipedia'"
      ]
     },
     "execution_count": 10,
     "metadata": {},
     "output_type": "execute_result"
    }
   ],
   "source": [
    "api_wrapper_wiki = WikipediaAPIWrapper(top_k_results=1,doc_content_chars_max=500)\n",
    "wiki = WikipediaQueryRun(api_wrapper=api_wrapper_wiki)\n",
    "wiki.name"
   ]
  },
  {
   "cell_type": "code",
   "execution_count": 11,
   "id": "03ba97c7",
   "metadata": {},
   "outputs": [],
   "source": [
    "from dotenv import load_dotenv\n",
    "load_dotenv()\n",
    "\n",
    "import os\n",
    "\n",
    "os.environ[\"TAVILY_API_KEY\"]=os.getenv(\"TAVILY_API_KEY\")\n",
    "os.environ[\"GROQ_API_KEY\"]=os.getenv(\"GROQ_API_KEY\")\n"
   ]
  },
  {
   "cell_type": "code",
   "execution_count": 12,
   "id": "b69f52a1",
   "metadata": {},
   "outputs": [],
   "source": [
    "from langchain_community.tools.tavily_search import TavilySearchResults\n",
    "\n",
    "tavily = TavilySearchResults()"
   ]
  },
  {
   "cell_type": "code",
   "execution_count": 13,
   "id": "b5aa8e3b",
   "metadata": {},
   "outputs": [
    {
     "data": {
      "text/plain": [
       "[{'title': 'Artificial Intelligence News - ScienceDaily',\n",
       "  'url': 'https://www.sciencedaily.com/news/computers_math/artificial_intelligence/',\n",
       "  'content': 'Artificial Intelligence News\\n\\nTop Headlines\\n\\nLatest Headlines\\n\\nEarlier Headlines\\n\\nTuesday, April 8, 2025\\n\\nThursday, April 3, 2025\\n\\nThursday, March 27, 2025\\n\\nWednesday, March 26, 2025\\n\\nTuesday, March 25, 2025\\n\\nWednesday, March 19, 2025\\n\\nTuesday, March 18, 2025\\n\\nMonday, March 17, 2025\\n\\nThursday, March 6, 2025\\n\\nWednesday, March 5, 2025\\n\\nTuesday, March 4, 2025\\n\\nWednesday, February 26, 2025\\n\\nTuesday, February 25, 2025\\n\\nFriday, February 21, 2025\\n\\nThursday, February 20, 2025 [...] Wednesday, February 19, 2025\\n\\nThursday, February 13, 2025\\n\\nMonday, February 10, 2025\\n\\nMonday, February 3, 2025\\n\\nWednesday, January 29, 2025\\n\\nTuesday, January 28, 2025\\n\\nMonday, January 27, 2025\\n\\nTuesday, January 21, 2025\\n\\nThursday, January 16, 2025\\n\\nWednesday, January 15, 2025\\n\\nTuesday, January 14, 2025\\n\\nThursday, January 9, 2025\\n\\nWednesday, January 8, 2025\\n\\nMonday, January 6, 2025\\n\\nThursday, January 2, 2025\\n\\nFriday, December 27, 2024\\n\\nThursday, December 26, 2024\\n\\nThursday, December 19, 2024 [...] Wednesday, December 18, 2024\\n\\nTuesday, December 17, 2024\\n\\nMonday, December 16, 2024\\n\\nTuesday, December 10, 2024\\n\\nMonday, December 9, 2024\\n\\nFriday, December 6, 2024\\n\\nWednesday, December 4, 2024\\n\\nMonday, December 2, 2024\\n\\nFriday, November 29, 2024\\n\\nTuesday, November 26, 2024\\n\\nMonday, November 25, 2024\\n\\nThursday, November 21, 2024\\n\\nWednesday, November 20, 2024\\n\\nTuesday, November 19, 2024\\n\\nMonday, November 18, 2024\\n\\nSaturday, November 16, 2024\\n\\nThursday, November 14, 2024',\n",
       "  'score': 0.71185225},\n",
       " {'title': 'AI News & Artificial Intelligence - TechCrunch',\n",
       "  'url': 'https://techcrunch.com/category/artificial-intelligence/',\n",
       "  'content': 'Google will soon start letting kids under 13 use its Gemini chatbot\\n\\nOne of Google’s recent Gemini AI models scores worse on safety\\n\\nApple and Anthropic reportedly partner to build an AI coding platform\\n\\nOpenAI pledges to make changes to prevent future ChatGPT sycophancy\\n\\nGoogle’s NotebookLM Android and iOS apps are available for preorder\\n\\nDamn, the Cluely ragebait got us\\n\\nAirbnb is quietly rolling out an AI customer service bot in the US\\n\\nAmazon CEO says 100,000 users now have Alexa+ [...] Last call to volunteer at TechCrunch Sessions: AI\\n\\nGoogle is reportedly showing ads in chats with some third-party AI chatbots\\n\\nMicrosoft’s most capable new Phi 4 AI model rivals the performance of far larger systems\\n\\nSam Altman’s World unveils a mobile verification device\\n\\nWorld partners with Tinder, Visa to bring its ID-verifying tech to more places\\n\\nMeta forecasted it would make $1.4T in revenue from generative AI by 2035\\n\\nAmazon launches Nova Premier, its most capable AI model yet [...] TechCrunch Mobility: Aurora launches its driverless commercial trucking service, and a surprise bidder joins Canoo’s bankruptcy case\\n\\nGoogle will soon start letting kids under 13 use its Gemini chatbot\\n\\nGoogle will soon start letting kids under 13 use its Gemini chatbot\\n\\nOne of Google’s recent Gemini AI models scores worse on safety\\n\\nOne of Google’s recent Gemini AI models scores worse on safety\\n\\n© 2025 TechCrunch Media LLC.',\n",
       "  'score': 0.66229486},\n",
       " {'title': 'AI News | Latest AI News, Analysis & Events',\n",
       "  'url': 'https://www.artificialintelligence-news.com/',\n",
       "  'content': 'AI News reports on the latest artificial intelligence news and insights. Explore industry trends from the frontline of AI.',\n",
       "  'score': 0.650934},\n",
       " {'title': 'Artificial Intelligence - Latest AI News and Analysis - WSJ.com',\n",
       "  'url': 'https://www.wsj.com/tech/ai',\n",
       "  'content': 'The latest artificial intelligence news coverage focusing on the technology, tools and the companies building AI technology.',\n",
       "  'score': 0.6383174},\n",
       " {'title': 'Latest AI news and blog posts - Google AI',\n",
       "  'url': 'https://ai.google/latest-news/',\n",
       "  'content': 'Read about the latest AI news and explore blogs for researchers, IT leaders, developers, and more.',\n",
       "  'score': 0.6364215}]"
      ]
     },
     "execution_count": 13,
     "metadata": {},
     "output_type": "execute_result"
    }
   ],
   "source": [
    "tavily.invoke(\"Provide me the recent AI news?\")"
   ]
  },
  {
   "cell_type": "code",
   "execution_count": 14,
   "id": "000b6266",
   "metadata": {},
   "outputs": [],
   "source": [
    "##Combine all these tools in the list\n",
    "tools=[arxiv,wiki,tavily]"
   ]
  },
  {
   "cell_type": "code",
   "execution_count": 16,
   "id": "23e2ef83",
   "metadata": {},
   "outputs": [],
   "source": [
    "## Initilaize the LLM model\n",
    "from langchain_groq import ChatGroq\n",
    "\n",
    "llm = ChatGroq(model=\"qwen-qwq-32b\")"
   ]
  },
  {
   "cell_type": "code",
   "execution_count": 17,
   "id": "dd3c9d22",
   "metadata": {},
   "outputs": [
    {
     "data": {
      "text/plain": [
       "AIMessage(content='\\n<think>\\nOkay, the user is asking \"What is AI?\" so I need to explain it in a straightforward way. Let me start by defining AI as a branch of computer science. I should mention that it\\'s about creating machines that can perform tasks requiring human-like intelligence. Maybe include some examples like problem-solving or learning from data. Oh, right, it\\'s important to note the goal of AI is to simulate human intelligence. \\n\\nWait, maybe I should break it down into key components. The user might benefit from knowing the main areas of AI: machine learning, natural language processing, computer vision. I should explain each briefly. Also, different types of AI: reactive machines, limited memory, theory of mind, self-aware (though the last two are more theoretical). \\n\\nApplications are crucial here. People relate to real-world uses like voice assistants, recommendation systems, self-driving cars. Maybe mention how AI processes data and learns from it through algorithms. \\n\\nDon\\'t forget the two main types of AI: narrow (or weak) AI and general (or strong) AI. Narrow AI is what we have now, like Siri or Alexa. General AI is hypothetical, human-level intelligence. \\n\\nI should also touch on how AI works using data, algorithms, and decision-making. Maybe a simple example: a recommendation system learning from user behavior. \\n\\nHmm, maybe clarify the difference between AI and machine learning. Machine learning is a subset, so that\\'s important. Also, mention neural networks as part of that. \\n\\nPotential challenges and considerations like ethics, job impact, biases in data. But maybe keep it brief since the question is about the definition. \\n\\nWait, the user might be a beginner, so avoid too much jargon. Use simple terms. Start with a basic definition, then elaborate with examples. Make sure it\\'s clear and structured. \\n\\nCheck if there\\'s anything I\\'m missing. History? Maybe not necessary here. Focus on the core explanation. Alright, structure it as a definition, how it works, types, applications, and maybe a note on goals vs current state. That should cover it without being too technical.\\n</think>\\n\\n**Artificial Intelligence (AI)** refers to the simulation of human intelligence in machines that are programmed to think and learn like humans. These systems can perform tasks that typically require human-like cognitive abilities, such as understanding language, recognizing patterns, learning from experience, and making decisions. The ultimate goal of AI is to create systems capable of performing tasks that humans can do, but often faster, more accurately, or at a larger scale.\\n\\n---\\n\\n### **Key Components of AI**:\\n1. **Machine Learning (ML)**:\\n   - A subset of AI where systems learn from **data** to improve performance on a task without explicit programming. For example, a spam filter learning to distinguish spam emails from legitimate ones.\\n\\n2. **Natural Language Processing (NLP)**:\\n   - Enables machines to understand, interpret, and generate human language. Examples include chatbots, voice assistants (e.g., Siri, Alexa), and language translation tools.\\n\\n3. **Computer Vision**:\\n   - Allows systems to interpret and analyze visual information from the world, such as images or videos. Used in facial recognition, medical imaging analysis, and self-driving cars.\\n\\n4. **Robotics**:\\n   - Combines AI with physical machinery to automate tasks (e.g., industrial robots, robotic vacuum cleaners).\\n\\n---\\n\\n### **Types of AI**:\\n- **Narrow (Weak) AI**:\\n  - Specializes in performing **specific tasks**. This is the most common form today. Examples:\\n    - Virtual assistants (Siri, Alexa).\\n    - Recommendation systems (Netflix, YouTube).\\n    - Fraud detection in banking.\\n\\n- **General (Strong) AI**:\\n  - Hypothetical systems with **human-level intelligence**, capable of understanding, learning, and applying knowledge across diverse tasks. This is still theoretical and not yet achieved.\\n\\n---\\n\\n### **How AI Works**:\\n1. **Data Collection**: AI systems learn from large datasets (e.g., images, text, or user interactions).\\n2. **Algorithms**: These are the rules or instructions that process data. Machine learning algorithms (like neural networks) identify patterns in data.\\n3. **Training**: The system is trained on data to improve its performance.\\n4. **Decision-Making**: The AI applies what it has learned to solve problems, predict outcomes, or take actions.\\n\\n---\\n\\n### **Real-World Applications**:\\n- **Healthcare**: Diagnosing diseases, drug discovery, and personalized treatment plans.\\n- **Transportation**: Self-driving cars (e.g., Tesla Autopilot) and traffic management systems.\\n- **Business**: Customer service chatbots, predictive analytics for sales forecasting.\\n- **Entertainment**: AI-generated art, music, and personalized content recommendations.\\n\\n---\\n\\n### **Goals vs. Current Reality**:\\n- **Goal**: Create systems that can reason, learn, and act autonomously like humans.\\n- **Current State**: Most AI today is **narrow AI**—highly specialized but limited to specific tasks. Human-like general intelligence remains an area of ongoing research.\\n\\n---\\n\\n### **Key Considerations**:\\n- **Ethics and Bias**: AI systems can inherit biases from their training data, leading to unfair outcomes (e.g., in hiring or criminal justice).\\n- **Automation**: AI can disrupt jobs but also create new opportunities.\\n- **Transparency**: Ensuring AI decisions are explainable (e.g., \"black-box\" models can be problematic).\\n\\n---\\n\\nIn summary, AI is a field focused on building systems that mimic human intelligence to solve complex problems, automate tasks, and enhance decision-making. While it has already transformed many industries, its full potential—especially in achieving general AI—is still an evolving area of research and development.', additional_kwargs={}, response_metadata={'token_usage': {'completion_tokens': 1175, 'prompt_tokens': 13, 'total_tokens': 1188, 'completion_time': 2.875859837, 'prompt_time': 0.003040677, 'queue_time': 0.24346847000000002, 'total_time': 2.878900514}, 'model_name': 'qwen-qwq-32b', 'system_fingerprint': 'fp_3796682456', 'finish_reason': 'stop', 'logprobs': None}, id='run--572142fb-c4cd-4cd1-9ce7-6fdea0b40d86-0', usage_metadata={'input_tokens': 13, 'output_tokens': 1175, 'total_tokens': 1188})"
      ]
     },
     "execution_count": 17,
     "metadata": {},
     "output_type": "execute_result"
    }
   ],
   "source": [
    "llm.invoke(\"What is AI\")"
   ]
  },
  {
   "cell_type": "code",
   "execution_count": 18,
   "id": "56fb0f5a",
   "metadata": {},
   "outputs": [],
   "source": [
    "llm_with_tools=llm.bind_tools(tools=tools)"
   ]
  },
  {
   "cell_type": "code",
   "execution_count": 19,
   "id": "c1a7ef58",
   "metadata": {},
   "outputs": [
    {
     "data": {
      "text/plain": [
       "AIMessage(content='', additional_kwargs={'tool_calls': [{'id': 'call_t3nx', 'function': {'arguments': '{\"query\": \"IPL match today live score\"}', 'name': 'tavily_search_results_json'}, 'type': 'function'}]}, response_metadata={'token_usage': {'completion_tokens': 261, 'prompt_tokens': 354, 'total_tokens': 615, 'completion_time': 0.596065503, 'prompt_time': 0.018595776, 'queue_time': 0.26861615499999997, 'total_time': 0.614661279}, 'model_name': 'qwen-qwq-32b', 'system_fingerprint': 'fp_fbb7e6cc39', 'finish_reason': 'tool_calls', 'logprobs': None}, id='run--097764fa-e6b5-4a29-99bb-4ecff644c433-0', tool_calls=[{'name': 'tavily_search_results_json', 'args': {'query': 'IPL match today live score'}, 'id': 'call_t3nx', 'type': 'tool_call'}], usage_metadata={'input_tokens': 354, 'output_tokens': 261, 'total_tokens': 615})"
      ]
     },
     "execution_count": 19,
     "metadata": {},
     "output_type": "execute_result"
    }
   ],
   "source": [
    "llm_with_tools.invoke(\"What is the IPL match today\")"
   ]
  },
  {
   "cell_type": "markdown",
   "id": "bfe4cff4",
   "metadata": {},
   "source": [
    "## WorkFlow "
   ]
  },
  {
   "cell_type": "code",
   "execution_count": 20,
   "id": "6ae0bf55",
   "metadata": {},
   "outputs": [],
   "source": [
    "##State Schema\n",
    "\n",
    "from typing_extensions import TypedDict\n",
    "from langchain_core.messages import AnyMessage ##Human message or AI message\n",
    "from typing import Annotated ## labelling\n",
    "from langgraph.graph.message import add_messages ## Reducers in Langgraph"
   ]
  },
  {
   "cell_type": "code",
   "execution_count": 22,
   "id": "ecb761f5",
   "metadata": {},
   "outputs": [],
   "source": [
    "class State(TypedDict):\n",
    "    messages: Annotated[list[AnyMessage],add_messages]\n"
   ]
  },
  {
   "cell_type": "code",
   "execution_count": 23,
   "id": "b52693e0",
   "metadata": {},
   "outputs": [],
   "source": [
    "from IPython.display import Image,display\n",
    "from langgraph.graph import StateGraph,START,END\n",
    "from langgraph.prebuilt import ToolNode\n",
    "from langgraph.prebuilt import tools_condition"
   ]
  },
  {
   "cell_type": "code",
   "execution_count": 26,
   "id": "dba31c10",
   "metadata": {},
   "outputs": [
    {
     "data": {
      "image/png": "[encoded data removed]",
      "text/plain": [
       "<IPython.core.display.Image object>"
      ]
     },
     "metadata": {},
     "output_type": "display_data"
    }
   ],
   "source": [
    "def tool_calling_llm(state:State):\\\n",
    "    return {\"messages\":[llm_with_tools.invoke(state[\"messages\"])]}\n",
    "\n",
    "#build graph\n",
    "builder = StateGraph(State)\n",
    "builder.add_node(\"tool_calling_llm\",tool_calling_llm)\n",
    "builder.add_node(\"tools\",ToolNode(tools))\n",
    "\n",
    "##Edges\n",
    "builder.add_edge(START,\"tool_calling_llm\")\n",
    "builder.add_conditional_edges(\n",
    "    \"tool_calling_llm\",\n",
    "    tools_condition,\n",
    ")\n",
    "builder.add_edge(\"tools\",END)\n",
    "\n",
    "graph = builder.compile()\n",
    "\n",
    "#View\n",
    "display(Image(graph.get_graph().draw_mermaid_png()))\n"
   ]
  },
  {
   "cell_type": "code",
   "execution_count": 29,
   "id": "ef9092d4",
   "metadata": {},
   "outputs": [
    {
     "name": "stdout",
     "output_type": "stream",
     "text": [
      "================================\u001b[1m Human Message \u001b[0m=================================\n",
      "\n",
      "1706.03762\n",
      "==================================\u001b[1m Ai Message \u001b[0m==================================\n",
      "Tool Calls:\n",
      "  arxiv (call_qksg)\n",
      " Call ID: call_qksg\n",
      "  Args:\n",
      "    query: 1706.03762\n",
      "=================================\u001b[1m Tool Message \u001b[0m=================================\n",
      "Name: arxiv\n",
      "\n",
      "Published: 2023-08-02\n",
      "Title: Attention Is All You Need\n",
      "Authors: Ashish Vaswani, Noam Shazeer, Niki Parmar, Jakob Uszkoreit, Llion Jones, Aidan N. Gomez, Lukasz Kaiser, Illia Polosukhin\n",
      "Summary: The dominant sequence transduction models are based on complex recurrent or\n",
      "convolutional neural networks in an encoder-decoder configuration. The best\n",
      "performing models also connect the encoder and decoder through an attention\n",
      "mechanism. We propose a new simple network architecture, the Transformer, base\n"
     ]
    }
   ],
   "source": [
    "messages=graph.invoke({\"messages\":\"1706.03762\"})\n",
    "for m in messages['messages']:\n",
    "    m.pretty_print()"
   ]
  },
  {
   "cell_type": "code",
   "execution_count": 31,
   "id": "6bef0027",
   "metadata": {},
   "outputs": [
    {
     "name": "stdout",
     "output_type": "stream",
     "text": [
      "================================\u001b[1m Human Message \u001b[0m=================================\n",
      "\n",
      "Hello Im Ashen and please tell me the recent paper on Quantum Computing\n",
      "==================================\u001b[1m Ai Message \u001b[0m==================================\n",
      "Tool Calls:\n",
      "  arxiv (call_d0md)\n",
      " Call ID: call_d0md\n",
      "  Args:\n",
      "    query: Quantum Computing\n",
      "=================================\u001b[1m Tool Message \u001b[0m=================================\n",
      "Name: arxiv\n",
      "\n",
      "Published: 2022-08-01\n",
      "Title: The Rise of Quantum Internet Computing\n",
      "Authors: Seng W. Loke\n",
      "Summary: This article highlights quantum Internet computing as referring to\n",
      "distributed quantum computing over the quantum Internet, analogous to\n",
      "(classical) Internet computing involving (classical) distributed computing over\n",
      "the (classical) Internet. Relevant to quantum Internet computing would be areas\n",
      "of study such as quantum protocols for distributed nodes using quantum\n",
      "information for computations, qua\n"
     ]
    }
   ],
   "source": [
    "messages=graph.invoke({\"messages\":\"Hello Im Ashen and please tell me the recent paper on Quantum Computing\"})\n",
    "for m in messages['messages']:\n",
    "    m.pretty_print()"
   ]
  },
  {
   "cell_type": "code",
   "execution_count": null,
   "id": "575e9377",
   "metadata": {},
   "outputs": [],
   "source": [
    "##Option - Second Method\n",
    "\n",
    "def tool_calling_llm(state:State):\\\n",
    "    return {\"messages\":[llm_with_tools.invoke(state[\"messages\"])]}\n",
    "\n",
    "#build graph\n",
    "builder = StateGraph(State)\n",
    "builder.add_node(\"tool_calling_llm\",tool_calling_llm)\n",
    "builder.add_node(\"tools\",ToolNode(tools))\n",
    "\n",
    "##Edges\n",
    "builder.add_edge(START,\"tool_calling_llm\")\n",
    "builder.add_conditional_edges(\n",
    "    \"tool_calling_llm\",\n",
    "    tools_condition,\n",
    ")\n",
    "builder.add_edge(\"tools\",\"tool_calling_llm\")\n",
    "\n",
    "graph = builder.compile()\n",
    "\n"
   ]
  },
  {
   "cell_type": "code",
   "execution_count": 33,
   "id": "fc414ecb",
   "metadata": {},
   "outputs": [
    {
     "name": "stdout",
     "output_type": "stream",
     "text": [
      "================================\u001b[1m Human Message \u001b[0m=================================\n",
      "\n",
      "What is the recent AI news and please tell me the recent paper on Quantum Computing\n",
      "==================================\u001b[1m Ai Message \u001b[0m==================================\n",
      "Tool Calls:\n",
      "  tavily_search_results_json (call_zwfj)\n",
      " Call ID: call_zwfj\n",
      "  Args:\n",
      "    query: recent AI news\n",
      "  arxiv (call_tcna)\n",
      " Call ID: call_tcna\n",
      "  Args:\n",
      "    query: recent quantum computing papers\n",
      "=================================\u001b[1m Tool Message \u001b[0m=================================\n",
      "Name: tavily_search_results_json\n",
      "\n",
      "[{\"title\": \"The latest AI news we announced in March - Google Blog\", \"url\": \"https://blog.google/technology/ai/google-ai-updates-march-2025/\", \"content\": \"The latest AI news we announced in March\\n\\nApr 04, 2025\\n\\n[[read-time]] min read\\n\\nHere’s a recap of some of our biggest AI updates from March, including Gemini 2.5 Pro, expanded access to AI Overviews, the release of AI Mode and more.\\n\\nGeneral summary [...] March was all about expanding AI across our products to make them even more helpful. The Gemini app was upgraded to include new features like personalization, Canvas and Audio Overviews, and we made our Deep Research and Gems features available at no cost. We also added our speedy Gemini 2.0 Flash Thinking experimental model under the hood — and one-upped ourselves just a few days later by making our most intelligent AI model, Gemini 2.5 Pro (experimental), available to all Gemini users. [...] We launched three new initiatives to protect and restore nature using AI. A startup accelerator, kicking off in May 2025, includes programming, mentoring and technical support from Google. Google.org is also providing $3 million to support AI-enabled solutions for biodiversity, bioeconomy and agriculture from Brazilian nonprofits. And we released SpeciesNet, a Cloud-based, open-source AI model for identifying animal species from camera trap photos, enabling people to protect nature and\", \"score\": 0.8058924}, {\"title\": \"Artificial Intelligence - Latest AI News and Analysis - WSJ.com\", \"url\": \"https://www.wsj.com/tech/ai\", \"content\": \"The latest artificial intelligence news coverage focusing on the technology, tools and the companies building AI technology.\", \"score\": 0.7147281}, {\"title\": \"Artificial intelligence - NBC News\", \"url\": \"https://www.nbcnews.com/artificial-intelligence\", \"content\": \"02:16\\n\\nVance says U.S. will be the ‘gold standard’ of AI technology\\n\\n03:36\\n\\nAI startup DeepSeek causes buzz in China but draws global scrutiny over censorship and security\\n\\nNBC News NOW\\n\\n02:03\\n\\nA.I. leaders say China may have copied U.S. technology\\n\\nNightly News\\n\\n08:23\\n\\nNew Chinese A.I. tool 'DeepSeek' competes with American models\\n\\nNBC News NOW\\n\\nMORE AI NEWS\\n\\nTrump signs executive order to boost U.S. coal industry, in part to fuel artificial intelligence [...] Profile\\n\\nSections\\n\\nLocal\\n\\ntv\\n\\nFeatured\\n\\nMore From NBC\\n\\nFollow NBC News\\n\\nnews Alerts\\n\\nThere are no new alerts at this time\\n\\nARTIFICIAL INTELLIGENCE\\n\\nThe latest news and top stories on artificial intelligence, including ChatGPT, AI Chatbot and Bard.\\n\\nMeta executive apologizes to conservative anti-DEI activist for AI responses\\n\\nOpenAI rolled back a ChatGPT update that made the bot excessively flattering\\n\\nAI NEWS\\n\\nArtificial intelligence [...] How artificial intelligence could shape future of youth sports\\n\\nNightly News\\n\\n02:20\\n\\nCollege students warn of privacy risks from smart glasses\\n\\nNightly News\\n\\n03:15\\n\\nHarvard professor uses AI to replicate himself for tutor experiment\\n\\nNBC News NOW\\n\\n02:35\\n\\nMan files complaint after ChatGPT falsely claimed he murdered his children\\n\\nNBC News NOW\\n\\n02:54\\n\\nA.I. chatbots becoming popular but worry privacy advocates\\n\\nNightly News\\n\\n03:15\\n\\nChristie's begins AI art auction amid backlash\\n\\nNBC News NOW\", \"score\": 0.7120925}, {\"title\": \"AI News & Artificial Intelligence | TechCrunch\", \"url\": \"https://techcrunch.com/category/artificial-intelligence/\", \"content\": \"Google will soon start letting kids under 13 use its Gemini chatbot\\n\\nOne of Google’s recent Gemini AI models scores worse on safety\\n\\nApple and Anthropic reportedly partner to build an AI coding platform\\n\\nOpenAI pledges to make changes to prevent future ChatGPT sycophancy\\n\\nGoogle’s NotebookLM Android and iOS apps are available for preorder\\n\\nDamn, the Cluely ragebait got us\\n\\nAirbnb is quietly rolling out an AI customer service bot in the US\\n\\nAmazon CEO says 100,000 users now have Alexa+ [...] Last call to volunteer at TechCrunch Sessions: AI\\n\\nGoogle is reportedly showing ads in chats with some third-party AI chatbots\\n\\nMicrosoft’s most capable new Phi 4 AI model rivals the performance of far larger systems\\n\\nWorld partners with Tinder, Visa to bring its ID-verifying tech to more places\\n\\nSam Altman’s World unveils a mobile verification device\\n\\nMeta forecasted it would make $1.4T in revenue from generative AI by 2035\\n\\nAmazon launches Nova Premier, its most capable AI model yet [...] Duolingo launches 148 courses created with AI after sharing plans to replace contractors with AI\\n\\nMicrosoft CEO says up to 30% of the company’s code was written by AI\\n\\nMicrosoft CEO says up to 30% of the company’s code was written by AI\\n\\nGoogle launches AI tools for practicing languages through personalized lessons\\n\\nGoogle launches AI tools for practicing languages through personalized lessons\\n\\nIndian court orders blocking of Proton Mail\\n\\nIndian court orders blocking of Proton Mail\", \"score\": 0.7001783}, {\"title\": \"Artificial intelligence | Massachusetts Institute of Technology\", \"url\": \"https://news.mit.edu/topic/artificial-intelligence2\", \"content\": \"MAD Fellow Alexander Htet Kyaw connects humans, machines, and the physical world using AI and augmented reality.\\n\\nApril 28, 2025\\n\\nRead full story →\\n\\nNovel method detects microbial contamination in cell cultures\\n\\nUltraviolet light “fingerprints” on cell cultures and machine learning can provide a definitive yes/no contamination assessment within 30 minutes.\\n\\nApril 25, 2025\\n\\nRead full story →\\n\\nArtificial intelligence enhances air mobility planning [...] A faster way to solve complex planning problems\\n\\nBy eliminating redundant computations, a new data-driven method can streamline processes like scheduling trains, routing delivery drivers, or assigning airline crews.\\n\\nApril 16, 2025\\n\\nRead full story →\\n\\nTraining LLMs to self-detoxify their language\\n\\nA new method from the MIT-IBM Watson AI Lab helps large language models to steer their own responses toward safer, more ethical, value-aligned outputs.\\n\\nApril 14, 2025\\n\\nRead full story →\\n\\nPagination [...] TactStyle, a system developed by CSAIL researchers, uses image prompts to replicate both the visual appearance and tactile properties of 3D models.\\n\\nApril 22, 2025\\n\\nRead full story →\\n\\nNorma Kamali is transforming the future of fashion with AI\\n\\nThe renowned designer embraces generative AI to preserve and propel her legacy.\\n\\nApril 22, 2025\\n\\nRead full story →\\n\\nMIT’s McGovern Institute is shaping brain science and improving human lives on a global scale\", \"score\": 0.6693348}]\n",
      "=================================\u001b[1m Tool Message \u001b[0m=================================\n",
      "Name: arxiv\n",
      "\n",
      "Published: 2003-05-05\n",
      "Title: Quantum computer: an appliance for playing market games\n",
      "Authors: Edward W. Piotrowski, Jan Sladkowski\n",
      "Summary: Recent development in quantum computation and quantum information theory\n",
      "allows to extend the scope of game theory for the quantum world. The authors\n",
      "have recently proposed a quantum description of financial market in terms of\n",
      "quantum game theory. The paper contain an analysis of such markets that shows\n",
      "that there would be advantage in using quantum computer\n",
      "==================================\u001b[1m Ai Message \u001b[0m==================================\n",
      "\n",
      "Here’s the information based on the tool responses:\n",
      "\n",
      "### Recent AI News Highlights:\n",
      "1. **Google AI Updates (March 2025)**  \n",
      "   - Launched **Gemini 2.5 Pro**, an advanced AI model available to all Gemini users.  \n",
      "   - Expanded free access to AI tools like *Deep Research* and *AI Overviews* for personalization and content creation.  \n",
      "   - Launched a **$3M startup accelerator** focused on AI solutions for biodiversity, agriculture, and bioeconomy in Brazil.  \n",
      "\n",
      "2. **Microsoft’s AI Advancements**  \n",
      "   - Released **Phi 4**, an AI model that rivals larger systems in performance.  \n",
      "   - Announced that up to 30% of their code is now generated using AI tools.  \n",
      "\n",
      "3. **Ethical and Safety Focus**  \n",
      "   - OpenAI addressed ChatGPT’s \"sycophancy\" issue with updates to reduce bias.  \n",
      "   - MIT developed a method to steer AI language models toward ethical outputs via self-regulation.  \n",
      "\n",
      "---\n",
      "\n",
      "### Quantum Computing Paper (ArXiv Search Result):  \n",
      "The tool returned a 2003 paper titled *\"Quantum computer: an appliance for playing market games\"*. This appears outdated, likely due to ambiguous search terms. For recent papers, try refining the query with specific keywords like:  \n",
      "- **\"2023 quantum computing arXiv\"** or **\"quantum error correction 2024\"**.  \n",
      "\n",
      "Let me know if you want to retry with adjusted parameters!  \n",
      "\n",
      "---\n",
      "\n",
      "### Summary of 2003 Paper (for reference):  \n",
      "- Explores quantum game theory applications in financial markets.  \n",
      "- Argues quantum computers could offer strategic advantages in market simulations.  \n",
      "- Note: This is not a recent paper—revised search terms are recommended for up-to-date research.  \n",
      "\n",
      "Let me know if you need further assistance!\n"
     ]
    }
   ],
   "source": [
    "messages=graph.invoke({\"messages\":\"What is the recent AI news and please tell me the recent paper on Quantum Computing\"})\n",
    "for m in messages['messages']:\n",
    "    m.pretty_print()"
   ]
  },
  {
   "cell_type": "code",
   "execution_count": null,
   "id": "939b0005",
   "metadata": {},
   "outputs": [
    {
     "name": "stderr",
     "output_type": "stream",
     "text": [
      "2025-05-04 22:52:39.272 WARNING streamlit.runtime.scriptrunner_utils.script_run_context: Thread 'MainThread': missing ScriptRunContext! This warning can be ignored when running in bare mode.\n",
      "2025-05-04 22:52:39.326 WARNING streamlit.runtime.scriptrunner_utils.script_run_context: Thread 'MainThread': missing ScriptRunContext! This warning can be ignored when running in bare mode.\n",
      "2025-05-04 22:52:42.562 \n",
      "  \u001b[33m\u001b[1mWarning:\u001b[0m to view this Streamlit app on a browser, run it with the following\n",
      "  command:\n",
      "\n",
      "    streamlit run c:\\Users\\Acer\\Desktop\\LangGraph\\.venv\\Lib\\site-packages\\ipykernel_launcher.py [ARGUMENTS]\n",
      "2025-05-04 22:52:42.575 Thread 'MainThread': missing ScriptRunContext! This warning can be ignored when running in bare mode.\n",
      "2025-05-04 22:52:42.576 Thread 'MainThread': missing ScriptRunContext! This warning can be ignored when running in bare mode.\n",
      "2025-05-04 22:52:42.576 Thread 'MainThread': missing ScriptRunContext! This warning can be ignored when running in bare mode.\n",
      "2025-05-04 22:52:42.577 Thread 'MainThread': missing ScriptRunContext! This warning can be ignored when running in bare mode.\n",
      "2025-05-04 22:52:42.577 Session state does not function when running a script without `streamlit run`\n",
      "2025-05-04 22:52:42.578 Thread 'MainThread': missing ScriptRunContext! This warning can be ignored when running in bare mode.\n",
      "2025-05-04 22:52:42.578 Thread 'MainThread': missing ScriptRunContext! This warning can be ignored when running in bare mode.\n",
      "2025-05-04 22:52:42.579 Thread 'MainThread': missing ScriptRunContext! This warning can be ignored when running in bare mode.\n",
      "2025-05-04 22:52:42.580 Thread 'MainThread': missing ScriptRunContext! This warning can be ignored when running in bare mode.\n",
      "2025-05-04 22:52:42.595 Thread 'MainThread': missing ScriptRunContext! This warning can be ignored when running in bare mode.\n",
      "2025-05-04 22:52:42.595 Thread 'MainThread': missing ScriptRunContext! This warning can be ignored when running in bare mode.\n",
      "2025-05-04 22:52:42.596 Thread 'MainThread': missing ScriptRunContext! This warning can be ignored when running in bare mode.\n",
      "2025-05-04 22:52:42.597 Thread 'MainThread': missing ScriptRunContext! This warning can be ignored when running in bare mode.\n"
     ]
    }
   ],
   "source": [
    "import streamlit as st\n",
    "\n",
    "# --- Place your tool and graph setup code here ---\n",
    "# For example, from your notebook:\n",
    "from langchain_community.tools import ArxivQueryRun, WikipediaQueryRun\n",
    "from langchain_community.utilities import WikipediaAPIWrapper, ArxivAPIWrapper\n",
    "from langchain_community.tools.tavily_search import TavilySearchResults\n",
    "from langchain_groq import ChatGroq\n",
    "from langgraph.graph import StateGraph, START\n",
    "from langgraph.prebuilt import ToolNode, tools_condition\n",
    "from langgraph.graph.message import add_messages\n",
    "from langchain_core.messages import AnyMessage\n",
    "from typing_extensions import TypedDict\n",
    "from typing import Annotated\n",
    "\n",
    "\n",
    "# --- Tool setup (from your notebook) ---\n",
    "api_wrapper_arxiv = ArxivAPIWrapper(top_k_results=2, doc_content_chars_max=500)\n",
    "arxiv = ArxivQueryRun(api_wrapper=api_wrapper_arxiv, description=\"Query arxiv papers\")\n",
    "\n",
    "api_wrapper_wiki = WikipediaAPIWrapper(top_k_results=1, doc_content_chars_max=500)\n",
    "wiki = WikipediaQueryRun(api_wrapper=api_wrapper_wiki)\n",
    "\n",
    "tavily = TavilySearchResults()\n",
    "\n",
    "tools = [arxiv, wiki, tavily]\n",
    "\n",
    "# --- LLM setup (from your notebook) ---\n",
    "llm = ChatGroq(model=\"qwen-qwq-32b\")\n",
    "llm_with_tools = llm.bind_tools(tools=tools)\n",
    "\n",
    "# --- LangGraph state and graph setup ---\n",
    "class State(TypedDict):\n",
    "    messages: Annotated[list[AnyMessage], add_messages]\n",
    "\n",
    "def tool_calling_llm(state: State):\n",
    "    return {\"messages\": [llm_with_tools.invoke(state[\"messages\"])]}\n",
    "\n",
    "builder = StateGraph(State)\n",
    "builder.add_node(\"tool_calling_llm\", tool_calling_llm)\n",
    "builder.add_node(\"tools\", ToolNode(tools))\n",
    "builder.add_edge(START, \"tool_calling_llm\")\n",
    "builder.add_conditional_edges(\"tool_calling_llm\", tools_condition)\n",
    "builder.add_edge(\"tools\", \"tool_calling_llm\")\n",
    "graph = builder.compile()\n",
    "# --- End of backend setup ---\n",
    "\n",
    "# --- Streamlit UI ---\n",
    "st.set_page_config(page_title=\"Multi-Tool AI Chatbot\", page_icon=\"🤖\")\n",
    "st.title(\"🤖 Multi-Tool AI Chatbot\")\n",
    "st.caption(\"Ask about AI news, research papers, Wikipedia topics, and more!\")\n",
    "\n",
    "# Initialize chat history in session state\n",
    "if \"messages\" not in st.session_state:\n",
    "    st.session_state.messages = []\n",
    "\n",
    "# Display chat history\n",
    "for msg in st.session_state.messages:\n",
    "    role = \"user\" if msg[\"role\"] == \"human\" else \"assistant\"\n",
    "    with st.chat_message(role):\n",
    "        st.markdown(msg[\"content\"])\n",
    "\n",
    "# User input box\n",
    "if prompt := st.chat_input(\"Type your message and press Enter...\"):\n",
    "    # Add user message to history\n",
    "    st.session_state.messages.append({\"role\": \"human\", \"content\": prompt})\n",
    "    with st.chat_message(\"user\"):\n",
    "        st.markdown(prompt)\n",
    "\n",
    "    # Prepare conversation for the graph\n",
    "    state = {\"messages\": st.session_state.messages}\n",
    "    # Run the LangGraph\n",
    "    response = graph.invoke(state)\n",
    "    # Extract assistant's message(s)\n",
    "    new_messages = response[\"messages\"][len(st.session_state.messages):]  # Only new messages\n",
    "\n",
    "    # Add and display assistant responses\n",
    "    for msg in new_messages:\n",
    "        st.session_state.messages.append({\"role\": \"assistant\", \"content\": getattr(msg, \"content\", str(msg))})\n",
    "        with st.chat_message(\"assistant\"):\n",
    "            st.markdown(getattr(msg, \"content\", str(msg)))\n"
   ]
  },
  {
   "cell_type": "code",
   "execution_count": 45,
   "id": "8e19e27b",
   "metadata": {},
   "outputs": [
    {
     "data": {
      "text/plain": [
       "'\\n\\n\\n# --- Streamlit UI with Tool Attribution ---\\nst.set_page_config(page_title=\"AI Research Assistant\", page_icon=\"🔍\")\\nst.title(\"🔍 AI Research Assistant\")\\nst.caption(\"Ask about research papers, news, or Wikipedia topics\")\\n\\n# Tool metadata for display\\nTOOL_SOURCES = {\\n    \"arxiv\": \"📄 Academic Papers\",\\n    \"WikipediaQueryRun\": \"🌐 Wikipedia\",\\n    \"tavily_search\": \"🔍 Web Search\",\\n    \"NewsAPI\": \"📰 News Articles\"\\n}\\n\\n# Chat history\\nif \"messages\" not in st.session_state:\\n    st.session_state.messages = []\\n\\n# Display messages with sources\\nfor msg in st.session_state.messages:\\n    role = \"user\" if msg[\"role\"] == \"human\" else \"assistant\"\\n    with st.chat_message(role):\\n        st.markdown(msg[\"content\"])\\n        if role == \"assistant\" and \"source\" in msg:\\n            st.caption(f\"Source: {msg[\\'source\\']}\")\\n\\n# User input\\nif prompt := st.chat_input(\"Ask about AI research or news...\"):\\n    st.session_state.messages.append({\"role\": \"human\", \"content\": prompt})\\n\\n    with st.chat_message(\"user\"):\\n        st.markdown(prompt)\\n\\n    # Get response\\n    response = graph.invoke({\"messages\": st.session_state.messages})\\n    new_messages = response[\"messages\"][len(st.session_state.messages):]\\n\\n    # Process and display assistant messages\\n    for msg in new_messages:\\n        content = getattr(msg, \"content\", str(msg))\\n        source = None\\n\\n        if hasattr(msg, \"tool_calls\"):\\n            tool_name = msg.tool_calls[0][\\'tool_name\\']\\n            source = TOOL_SOURCES.get(tool_name, tool_name)\\n\\n        st.session_state.messages.append({\\n            \"role\": \"assistant\",\\n            \"content\": content,\\n            \"source\": source\\n        })\\n\\n        with st.chat_message(\"assistant\"):\\n            st.markdown(content)\\n            if source:\\n                st.caption(f\"Source: {source}\")\\n'"
      ]
     },
     "execution_count": 45,
     "metadata": {},
     "output_type": "execute_result"
    }
   ],
   "source": [
    "import streamlit as st\n",
    "from dotenv import load_dotenv\n",
    "load_dotenv()\n",
    "\n",
    "from langchain_community.tools import ArxivQueryRun, WikipediaQueryRun\n",
    "from langchain_community.utilities import WikipediaAPIWrapper, ArxivAPIWrapper\n",
    "from langchain_community.tools.tavily_search import TavilySearchResults\n",
    "from langchain_groq import ChatGroq\n",
    "from langgraph.graph import StateGraph, START\n",
    "from langgraph.prebuilt import ToolNode, tools_condition\n",
    "from langgraph.graph.message import add_messages\n",
    "from langchain_core.messages import AnyMessage\n",
    "from typing_extensions import TypedDict\n",
    "from typing import Annotated\n",
    "from newsapi import NewsApiClient\n",
    "from langchain.tools import Tool\n",
    "import os\n",
    "\n",
    "# --- Tool Setup ---\n",
    "# 1. Existing Tools\n",
    "api_wrapper_arxiv = ArxivAPIWrapper(top_k_results=2, doc_content_chars_max=500)\n",
    "arxiv = ArxivQueryRun(api_wrapper=api_wrapper_arxiv, description=\"Query arXiv papers\")\n",
    "\n",
    "api_wrapper_wiki = WikipediaAPIWrapper(top_k_results=1, doc_content_chars_max=500)\n",
    "wiki = WikipediaQueryRun(api_wrapper=api_wrapper_wiki)\n",
    "\n",
    "tavily = TavilySearchResults()\n",
    "\n",
    "# 2. NewsAPI Tool\n",
    "def news_search(query: str) -> str:\n",
    "    newsapi = NewsApiClient(api_key=os.getenv(\"NEWS_API_KEY\"))\n",
    "    results = newsapi.get_everything(q=query, language='en', page_size=2)\n",
    "    return \"\\n\\n\".join(\n",
    "        f\"**{article['title']}**\\n{article['description']}\\n{article['url']}\"\n",
    "        for article in results['articles']\n",
    "    )\n",
    "\n",
    "news_tool = Tool.from_function(\n",
    "    func=news_search,\n",
    "    name=\"NewsAPI\",\n",
    "    description=\"Fetch current news headlines\"\n",
    ")\n",
    "\n",
    "tools = [arxiv, wiki, tavily, news_tool]\n",
    "\n",
    "# --- LLM & Graph Setup (unchanged) ---\n",
    "llm = ChatGroq(model=\"mixtral-8x7b-32768\")\n",
    "llm_with_tools = llm.bind_tools(tools=tools)\n",
    "\n",
    "class State(TypedDict):\n",
    "    messages: Annotated[list[AnyMessage], add_messages]\n",
    "\n",
    "def tool_calling_llm(state: State):\n",
    "    return {\"messages\": [llm_with_tools.invoke(state[\"messages\"])]}\n",
    "\n",
    "builder = StateGraph(State)\n",
    "builder.add_node(\"tool_calling_llm\", tool_calling_llm)\n",
    "builder.add_node(\"tools\", ToolNode(tools))\n",
    "builder.add_edge(START, \"tool_calling_llm\")\n",
    "builder.add_conditional_edges(\"tool_calling_llm\", tools_condition)\n",
    "builder.add_edge(\"tools\", \"tool_calling_llm\")\n",
    "graph = builder.compile()\n",
    "\n",
    "'''\n",
    "\n",
    "\n",
    "# --- Streamlit UI with Tool Attribution ---\n",
    "st.set_page_config(page_title=\"AI Research Assistant\", page_icon=\"🔍\")\n",
    "st.title(\"🔍 AI Research Assistant\")\n",
    "st.caption(\"Ask about research papers, news, or Wikipedia topics\")\n",
    "\n",
    "# Tool metadata for display\n",
    "TOOL_SOURCES = {\n",
    "    \"arxiv\": \"📄 Academic Papers\",\n",
    "    \"WikipediaQueryRun\": \"🌐 Wikipedia\",\n",
    "    \"tavily_search\": \"🔍 Web Search\",\n",
    "    \"NewsAPI\": \"📰 News Articles\"\n",
    "}\n",
    "\n",
    "# Chat history\n",
    "if \"messages\" not in st.session_state:\n",
    "    st.session_state.messages = []\n",
    "\n",
    "# Display messages with sources\n",
    "for msg in st.session_state.messages:\n",
    "    role = \"user\" if msg[\"role\"] == \"human\" else \"assistant\"\n",
    "    with st.chat_message(role):\n",
    "        st.markdown(msg[\"content\"])\n",
    "        if role == \"assistant\" and \"source\" in msg:\n",
    "            st.caption(f\"Source: {msg['source']}\")\n",
    "\n",
    "# User input\n",
    "if prompt := st.chat_input(\"Ask about AI research or news...\"):\n",
    "    st.session_state.messages.append({\"role\": \"human\", \"content\": prompt})\n",
    "    \n",
    "    with st.chat_message(\"user\"):\n",
    "        st.markdown(prompt)\n",
    "    \n",
    "    # Get response\n",
    "    response = graph.invoke({\"messages\": st.session_state.messages})\n",
    "    new_messages = response[\"messages\"][len(st.session_state.messages):]\n",
    "    \n",
    "    # Process and display assistant messages\n",
    "    for msg in new_messages:\n",
    "        content = getattr(msg, \"content\", str(msg))\n",
    "        source = None\n",
    "        \n",
    "        if hasattr(msg, \"tool_calls\"):\n",
    "            tool_name = msg.tool_calls[0]['tool_name']\n",
    "            source = TOOL_SOURCES.get(tool_name, tool_name)\n",
    "        \n",
    "        st.session_state.messages.append({\n",
    "            \"role\": \"assistant\",\n",
    "            \"content\": content,\n",
    "            \"source\": source\n",
    "        })\n",
    "        \n",
    "        with st.chat_message(\"assistant\"):\n",
    "            st.markdown(content)\n",
    "            if source:\n",
    "                st.caption(f\"Source: {source}\")\n",
    "'''"
   ]
  },
  {
   "cell_type": "code",
   "execution_count": null,
   "id": "18d81d03",
   "metadata": {},
   "outputs": [],
   "source": [
    "import os\n",
    "import streamlit as st\n",
    "from dotenv import load_dotenv\n",
    "load_dotenv()\n",
    "\n",
    "from langchain_community.tools import ArxivQueryRun, WikipediaQueryRun\n",
    "from langchain_community.utilities import WikipediaAPIWrapper, ArxivAPIWrapper\n",
    "from langchain_community.tools.tavily_search import TavilySearchResults\n",
    "from langchain_groq import ChatGroq\n",
    "from langgraph.graph import StateGraph, START\n",
    "from langgraph.prebuilt import ToolNode, tools_condition\n",
    "from langgraph.graph.message import add_messages\n",
    "from langchain_core.messages import AnyMessage\n",
    "from typing_extensions import TypedDict\n",
    "from typing import Annotated\n",
    "from newsapi import NewsApiClient\n",
    "from langchain.tools import Tool\n",
    "\n",
    "def newsapi_search(query: str, top_k: int = 3) -> str:\n",
    "    \"\"\"Search news using NewsAPI\"\"\"\n",
    "    newsapi = NewsApiClient(api_key=os.getenv(\"NEWS_API_KEY\"))\n",
    "    try:\n",
    "        results = newsapi.get_everything(q=query, language='en', page_size=top_k)\n",
    "        if not results['articles']:\n",
    "            return \"No news found on this topic.\"\n",
    "        return \"\\n\\n\".join(\n",
    "            f\"**{article['title']}**\\n\"\n",
    "            f\"Source: {article['source']['name']}\\n\"\n",
    "            f\"Published: {article['publishedAt'][:10]}\\n\"\n",
    "            f\"{article['description']}\\n\"\n",
    "            f\"[Read more]({article['url']})\"\n",
    "            for article in results['articles']\n",
    "        )\n",
    "    except Exception as e:\n",
    "        return f\"NewsAPI error: {str(e)}\"\n",
    "\n",
    "# Create LangChain Tool\n",
    "news_tool = Tool.from_function(\n",
    "    func=newsapi_search,\n",
    "    name=\"NewsAPI\",\n",
    "    description=\"Useful for finding current news articles. Input should be a search query about recent news.\"\n",
    ")\n",
    "\n",
    "# --- Tool setup (from your notebook) ---\n",
    "api_wrapper_arxiv = ArxivAPIWrapper(top_k_results=2, doc_content_chars_max=500)\n",
    "arxiv = ArxivQueryRun(api_wrapper=api_wrapper_arxiv, description=\"Query arxiv papers\")\n",
    "\n",
    "api_wrapper_wiki = WikipediaAPIWrapper(top_k_results=1, doc_content_chars_max=500)\n",
    "wiki = WikipediaQueryRun(api_wrapper=api_wrapper_wiki)\n",
    "\n",
    "tavily = TavilySearchResults()\n",
    "\n",
    "tools = [arxiv, wiki, tavily,news_tool]\n",
    "\n",
    "# --- LLM setup (from your notebook) ---\n",
    "llm = ChatGroq(model=\"qwen-qwq-32b\")\n",
    "llm_with_tools = llm.bind_tools(tools=tools)\n",
    "\n",
    "# --- LangGraph state and graph setup ---\n",
    "class State(TypedDict):\n",
    "    messages: Annotated[list[AnyMessage], add_messages]\n",
    "\n",
    "def tool_calling_llm(state: State):\n",
    "    return {\"messages\": [llm_with_tools.invoke(state[\"messages\"])]}\n",
    "\n",
    "builder = StateGraph(State)\n",
    "builder.add_node(\"tool_calling_llm\", tool_calling_llm)\n",
    "builder.add_node(\"tools\", ToolNode(tools))\n",
    "builder.add_edge(START, \"tool_calling_llm\")\n",
    "builder.add_conditional_edges(\"tool_calling_llm\", tools_condition)\n",
    "builder.add_edge(\"tools\", \"tool_calling_llm\")\n",
    "graph = builder.compile()\n",
    "# --- End of backend setup ---\n",
    "\n",
    "# --- Streamlit UI ---\n",
    "st.set_page_config(page_title=\"Multi-Tool AI Chatbot\", page_icon=\"🤖\")\n",
    "st.title(\"🤖 Multi-Tool AI Chatbot\")\n",
    "st.caption(\"Ask about AI news, research papers, Wikipedia topics, and more!\")\n",
    "\n",
    "# Initialize chat history in session state\n",
    "if \"messages\" not in st.session_state:\n",
    "    st.session_state.messages = []\n",
    "\n",
    "# Display chat history\n",
    "for msg in st.session_state.messages:\n",
    "    role = \"user\" if msg[\"role\"] == \"human\" else \"assistant\"\n",
    "    with st.chat_message(role):\n",
    "        st.markdown(msg[\"content\"])\n",
    "\n",
    "# User input box\n",
    "if prompt := st.chat_input(\"Type your message and press Enter...\"):\n",
    "    # Add user message to history\n",
    "    st.session_state.messages.append({\"role\": \"human\", \"content\": prompt})\n",
    "    with st.chat_message(\"user\"):\n",
    "        st.markdown(prompt)\n",
    "\n",
    "    # Prepare conversation for the graph\n",
    "    state = {\"messages\": st.session_state.messages}\n",
    "    # Run the LangGraph\n",
    "    response = graph.invoke(state)\n",
    "    # Extract assistant's message(s)\n",
    "    new_messages = response[\"messages\"][len(st.session_state.messages):]  # Only new messages\n",
    "\n",
    "    # Add and display assistant responses\n",
    "    for msg in new_messages:\n",
    "        st.session_state.messages.append({\"role\": \"assistant\", \"content\": getattr(msg, \"content\", str(msg))})\n",
    "        with st.chat_message(\"assistant\"):\n",
    "            st.markdown(getattr(msg, \"content\", str(msg)))"
   ]
  },
  {
   "cell_type": "code",
   "execution_count": 54,
   "id": "df5c370d",
   "metadata": {},
   "outputs": [],
   "source": [
    "# --- Google Sheets History ---\n",
    "def get_gspread_client():\n",
    "    scope = [\"https://spreadsheets.google.com/feeds\", \n",
    "             \"https://www.googleapis.com/auth/drive\"]\n",
    "    creds = ServiceAccountCredentials.from_json_keyfile_name(\n",
    "        os.getenv(\"GOOGLE_SHEETS_CREDS\"), scope)\n",
    "    return gspread.authorize(creds)\n",
    "\n",
    "def save_to_sheet(role: str, content: str, tool: str = None):\n",
    "    try:\n",
    "        client = get_gspread_client()\n",
    "        sheet = client.open(os.getenv(\"SHEET_NAME\")).sheet1\n",
    "        sheet.append_row([\n",
    "            datetime.now().strftime(\"%Y-%m-%d %H:%M:%S\"),\n",
    "            role,\n",
    "            content,\n",
    "            tool if tool else \"N/A\"\n",
    "        ])\n",
    "    except Exception as e:\n",
    "        st.error(f\"Failed to save history: {e}\")\n"
   ]
  },
  {
   "cell_type": "code",
   "execution_count": 57,
   "id": "2d2d24db",
   "metadata": {},
   "outputs": [
    {
     "name": "stdout",
     "output_type": "stream",
     "text": [
      "New hash: e86f78a8a3caf0b60d8e74e5942aa6d86dc150cd3c03338aef25b7d2d7e3acc7\n",
      "Your password will be: Admin@123\n"
     ]
    }
   ],
   "source": [
    "import hashlib\n",
    "new_password = \"Admin@123\"  # ← Type your desired password here\n",
    "print(f\"New hash: {hashlib.sha256(new_password.encode()).hexdigest()}\")\n",
    "print(f\"Your password will be: {new_password}\")"
   ]
  },
  {
   "cell_type": "code",
   "execution_count": null,
   "id": "95cc0207",
   "metadata": {},
   "outputs": [],
   "source": []
  }
 ],
 "metadata": {
  "kernelspec": {
   "display_name": ".venv",
   "language": "python",
   "name": "python3"
  },
  "language_info": {
   "codemirror_mode": {
    "name": "ipython",
    "version": 3
   },
   "file_extension": ".py",
   "mimetype": "text/x-python",
   "name": "python",
   "nbconvert_exporter": "python",
   "pygments_lexer": "ipython3",
   "version": "3.13.1"
  }
 },
 "nbformat": 4,
 "nbformat_minor": 5
}
